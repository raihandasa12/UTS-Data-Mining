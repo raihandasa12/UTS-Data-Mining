{
 "cells": [
  {
   "cell_type": "code",
   "execution_count": 4,
   "id": "8e52479d-fca9-454e-ae90-9b4c53fa5f04",
   "metadata": {},
   "outputs": [
    {
     "name": "stdout",
     "output_type": "stream",
     "text": [
      "   R&D Spend  Administration  Marketing Spend       State     Profit\n",
      "0         45     1000.230000        124153.04    New York   64926.08\n",
      "1         10    70662.663333        110594.11     Florida  146121.95\n",
      "2         20    76253.860000        113867.30  California  118474.03\n",
      "3         32    63408.860000        129219.61  California   97427.84\n",
      "4         40    28754.330000        118546.05  California   78239.91\n",
      "5         14   119943.240000        156547.42     Florida  132602.65\n",
      "6          6   134615.460000        147198.87  California  156122.51\n"
     ]
    }
   ],
   "source": [
    "import pandas as pd\n",
    "\n",
    "# Data\n",
    "data = {\n",
    "    'R&D Spend': [45, 10, 20, 32, 40, 14, 6],\n",
    "    'Administration': [1000.23, float('NaN'), 76253.86, 63408.86, 28754.33, 119943.24, 134615.46],\n",
    "    'Marketing Spend': [124153.04, 110594.11, 113867.30, 129219.61, 118546.05, 156547.42, 147198.87],\n",
    "    'State': ['New York', 'Florida', 'California', 'California', 'California', 'Florida', 'California'],\n",
    "    'Profit': [64926.08, 146121.95, 118474.03, 97427.84, 78239.91, 132602.65, 156122.51]\n",
    "}\n",
    "\n",
    "# Buat DataFrame\n",
    "df = pd.DataFrame(data)\n",
    "\n",
    "# Identifikasi kolom dengan data kosong\n",
    "columns_with_nan = df.columns[df.isnull().any()].tolist()\n",
    "\n",
    "# Isi data kosong dengan nilai mean\n",
    "for column in columns_with_nan:\n",
    "    mean_value = df[column].mean()\n",
    "    df[column].fillna(mean_value, inplace=True)\n",
    "\n",
    "# Tampilkan DataFrame setelah preprocessing\n",
    "print(df)\n",
    "\n"
   ]
  },
  {
   "cell_type": "code",
   "execution_count": 8,
   "id": "d2b4e9a6-cd67-4c2d-90b9-6ce9944d308c",
   "metadata": {},
   "outputs": [
    {
     "name": "stdout",
     "output_type": "stream",
     "text": [
      "   R&D Spend  Administration  Marketing Spend     Profit  State_California  \\\n",
      "0         45         1000.23        124153.04   64926.08             False   \n",
      "1         10             NaN        110594.11  146121.95             False   \n",
      "2         20        76253.86        113867.30  118474.03              True   \n",
      "3         32        63408.86        129219.61   97427.84              True   \n",
      "4         40        28754.33        118546.05   78239.91              True   \n",
      "5         14       119943.24        156547.42  132602.65             False   \n",
      "6          6       134615.46        147198.87  156122.51              True   \n",
      "\n",
      "   State_Florida  State_New York  \n",
      "0          False            True  \n",
      "1           True           False  \n",
      "2          False           False  \n",
      "3          False           False  \n",
      "4          False           False  \n",
      "5           True           False  \n",
      "6          False           False  \n"
     ]
    }
   ],
   "source": [
    "import pandas as pd\n",
    "\n",
    "# Data awal\n",
    "data = {\n",
    "    'R&D Spend': [45, 10, 20, 32, 40, 14, 6],\n",
    "    'Administration': [1000.23, None, 76253.86, 63408.86, 28754.33, 119943.24, 134615.46],\n",
    "    'Marketing Spend': [124153.04, 110594.11, 113867.30, 129219.61, 118546.05, 156547.42, 147198.87],\n",
    "    'State': ['New York', 'Florida', 'California', 'California', 'California', 'Florida', 'California'],\n",
    "    'Profit': [64926.08, 146121.95, 118474.03, 97427.84, 78239.91, 132602.65, 156122.51]\n",
    "}\n",
    "\n",
    "# Membuat DataFrame dari data\n",
    "df = pd.DataFrame(data)\n",
    "\n",
    "# Melakukan one-hot encoding pada kolom 'State'\n",
    "df_encoded = pd.get_dummies(df, columns=['State'])\n",
    "\n",
    "# Menampilkan hasil\n",
    "print(df_encoded)\n",
    "\n"
   ]
  },
  {
   "cell_type": "code",
   "execution_count": 9,
   "id": "f57b54c4-ab8d-408d-b930-5e294bd832c5",
   "metadata": {},
   "outputs": [
    {
     "name": "stdout",
     "output_type": "stream",
     "text": [
      "   R&D Spend  Administration  Marketing Spend       State     Profit  \\\n",
      "0         45         1000.23        124153.04    New York   64926.08   \n",
      "1         10        69831.36        110594.11     Florida  146121.95   \n",
      "2         20        76253.86        113867.30  California  118474.03   \n",
      "3         32        63408.86        129219.61  California   97427.84   \n",
      "4         40        28754.33        118546.05  California   78239.91   \n",
      "5         14       119943.24        156547.42     Florida  132602.65   \n",
      "6          6       134615.46        147198.87  California  156122.51   \n",
      "\n",
      "          Tax  \n",
      "0   9503.9675  \n",
      "1  16327.3710  \n",
      "2  15429.7595  \n",
      "3  14502.8155  \n",
      "4  11277.0145  \n",
      "5  20454.6655  \n",
      "6  21896.8420  \n"
     ]
    }
   ],
   "source": [
    "import pandas as pd\n",
    "\n",
    "# Membuat DataFrame dari data yang diberikan\n",
    "data = {\n",
    "    'R&D Spend': [45, 10, 20, 32, 40, 14, 6],\n",
    "    'Administration': [1000.23, float('nan'), 76253.86, 63408.86, 28754.33, 119943.24, 134615.46],\n",
    "    'Marketing Spend': [124153.04, 110594.11, 113867.30, 129219.61, 118546.05, 156547.42, 147198.87],\n",
    "    'State': ['New York', 'Florida', 'California', 'California', 'California', 'Florida', 'California'],\n",
    "    'Profit': [64926.08, 146121.95, 118474.03, 97427.84, 78239.91, 132602.65, 156122.51]\n",
    "}\n",
    "\n",
    "df = pd.DataFrame(data)\n",
    "\n",
    "# Mengisi nilai NaN pada kolom 'Administration' dengan nilai median\n",
    "administration_median = df['Administration'].median()\n",
    "df['Administration'].fillna(administration_median, inplace=True)\n",
    "\n",
    "# Menambahkan kolom baru 'Tax'\n",
    "df['Tax'] = (df['Profit'] + df['Marketing Spend'] + df['Administration']) * 0.05\n",
    "\n",
    "print(df)\n"
   ]
  },
  {
   "cell_type": "code",
   "execution_count": 10,
   "id": "a9ea887a-d20b-4cc5-9bc9-f6e0804ded42",
   "metadata": {},
   "outputs": [
    {
     "name": "stdout",
     "output_type": "stream",
     "text": [
      "   R&D Spend  Administration  Marketing Spend       State    Profit\n",
      "0   1.496707       -1.603505        -0.277473    New York -1.519197\n",
      "1  -0.980950        0.000000        -1.125502     Florida  1.024661\n",
      "2  -0.273048        0.128699        -0.920784  California  0.158454\n",
      "3   0.576434       -0.166970         0.039410  California -0.500921\n",
      "4   1.142756       -0.964655        -0.628156  California -1.102077\n",
      "5  -0.697789        1.134351         1.748600     Florida  0.601102\n",
      "6  -1.264110        1.472079         1.163905  California  1.337977\n"
     ]
    }
   ],
   "source": [
    "from sklearn.preprocessing import StandardScaler\n",
    "import pandas as pd\n",
    "import numpy as np\n",
    "\n",
    "# Memuat data ke dalam DataFrame\n",
    "data = {\n",
    "    'R&D Spend': [45, 10, 20, 32, 40, 14, 6],\n",
    "    'Administration': [1000.23, np.nan, 76253.86, 63408.86, 28754.33, 119943.24, 134615.46],\n",
    "    'Marketing Spend': [124153.04, 110594.11, 113867.30, 129219.61, 118546.05, 156547.42, 147198.87],\n",
    "    'State': ['New York', 'Florida', 'California', 'California', 'California', 'Florida', 'California'],\n",
    "    'Profit': [64926.08, 146121.95, 118474.03, 97427.84, 78239.91, 132602.65, 156122.51]\n",
    "}\n",
    "\n",
    "df = pd.DataFrame(data)\n",
    "\n",
    "# Mengisi missing values dengan nilai rata-rata pada kolom Administration\n",
    "df['Administration'].fillna(df['Administration'].mean(), inplace=True)\n",
    "\n",
    "# Mendefinisikan kolom numerik yang akan di-scaling\n",
    "numeric_cols = ['R&D Spend', 'Administration', 'Marketing Spend', 'Profit']\n",
    "\n",
    "# Melakukan scaling menggunakan StandardScaler\n",
    "scaler = StandardScaler()\n",
    "df[numeric_cols] = scaler.fit_transform(df[numeric_cols])\n",
    "\n",
    "print(df)\n"
   ]
  },
  {
   "cell_type": "code",
   "execution_count": null,
   "id": "eed45559-3171-4e7c-b593-88686131faa6",
   "metadata": {},
   "outputs": [],
   "source": []
  },
  {
   "cell_type": "code",
   "execution_count": null,
   "id": "75ea714e-852f-4d4a-92ae-80521718c47e",
   "metadata": {},
   "outputs": [],
   "source": []
  },
  {
   "cell_type": "code",
   "execution_count": null,
   "id": "a8aa01f9-dda5-4c18-9ed3-a3b7fd6b51ac",
   "metadata": {},
   "outputs": [],
   "source": []
  }
 ],
 "metadata": {
  "kernelspec": {
   "display_name": "Python 3 (ipykernel)",
   "language": "python",
   "name": "python3"
  },
  "language_info": {
   "codemirror_mode": {
    "name": "ipython",
    "version": 3
   },
   "file_extension": ".py",
   "mimetype": "text/x-python",
   "name": "python",
   "nbconvert_exporter": "python",
   "pygments_lexer": "ipython3",
   "version": "3.11.7"
  }
 },
 "nbformat": 4,
 "nbformat_minor": 5
}
