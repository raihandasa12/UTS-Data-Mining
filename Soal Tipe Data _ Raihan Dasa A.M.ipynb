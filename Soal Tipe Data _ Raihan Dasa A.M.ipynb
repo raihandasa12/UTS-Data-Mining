{
 "cells": [
  {
   "cell_type": "code",
   "execution_count": 1,
   "id": "7a60c2be-59aa-43fd-91fb-23509c2cc957",
   "metadata": {},
   "outputs": [],
   "source": [
    "company_name_list = [{'name': 'Company 1'},\n",
    "          {'name': 'Company 2'},\n",
    "          {'name': 'Company 3'}]\n",
    "\n",
    "employee_name_list = [{'name': 'John Doe'},\n",
    "          {'name': 'Tom Smith'},\n",
    "          {'name': 'Andrew Sebastian'}]\n",
    "\n",
    "company_detail_list = {\n",
    "      'Company 1': {\n",
    "          'name': 'Company 1',\n",
    "          'domain': 'Retail',\n",
    "          'clients': [\n",
    "              {\n",
    "                  'name': 'acme.inc',\n",
    "                  'country': 'united states'\n",
    "              },\n",
    "              {\n",
    "                  'name': 'Wayne.co',\n",
    "                  'country': 'united states'\n",
    "              }\n",
    "          ]\n",
    "      },\n",
    "      'Company 2': {\n",
    "          'name': 'Company 2',\n",
    "          'domain': 'Construction',\n",
    "          'clients': [\n",
    "              {\n",
    "                  'name': 'Tesla',\n",
    "                  'country': 'united states'\n",
    "              },\n",
    "              {\n",
    "                  'name': 'Japan Airlines',\n",
    "                  'country': 'japan'\n",
    "              },\n",
    "              {\n",
    "                  'name': 'Indofood',\n",
    "                  'country': 'indonesia'\n",
    "              }\n",
    "          ]\n",
    "      },\n",
    "      'Company 3': {\n",
    "          'name': 'Company 3',\n",
    "          'domain': 'Healthcare',\n",
    "          'clients': [\n",
    "              {\n",
    "                  'name': 'Petronas',\n",
    "                  'country': 'malaysia'\n",
    "              },\n",
    "              {\n",
    "                  'name': 'VW Group',\n",
    "                  'country': 'germany'\n",
    "              },\n",
    "              {\n",
    "                  'name': 'IBM',\n",
    "                  'country': 'united states'\n",
    "              },\n",
    "              {\n",
    "                  'name': 'Mitsubishi',\n",
    "                  'country': 'japan'\n",
    "              }\n",
    "          ]\n",
    "      }\n",
    "  }\n",
    "\n",
    "employee_detail_list = {\n",
    "      'John Doe': {\n",
    "          'name': 'EMP-0001',\n",
    "          'first_name': 'John',\n",
    "          'last_name': 'Doe',\n",
    "          'full_name': 'John Doe',\n",
    "          'company': 'Company 1'\n",
    "      },\n",
    "      'Tom Smith': {\n",
    "          'name': 'EMP-0002',\n",
    "          'first_name': 'Tom',\n",
    "          'last_name': 'Smith',\n",
    "          'full_name': 'Tom Smith',\n",
    "          'company': 'Company 2'\n",
    "      },\n",
    "      'Andrew Sebastian': {\n",
    "          'name': 'EMP-0003',\n",
    "          'first_name': 'Andrew',\n",
    "          'last_name': 'Sebastian',\n",
    "          'full_name': 'Andrew Sebastian',\n",
    "          'company': 'Company 2'\n",
    "      },\n",
    "  }"
   ]
  },
  {
   "cell_type": "code",
   "execution_count": 21,
   "id": "583c299c-bbbc-42ea-aa48-fca107d34927",
   "metadata": {},
   "outputs": [],
   "source": [
    "def sort_company():\n",
    "    sorted_companies = sorted(company_detail_list.values(), key=lambda x: x['Retail, Healthcare, Costruction'])\n",
    "    sorted_company_details = [{'Retail': company['Company 1'], 'Healthcare': company['Costruction']} for company in sorted_companies]\n",
    "    return sorted_company_details\n"
   ]
  },
  {
   "cell_type": "code",
   "execution_count": 35,
   "id": "6e25d286-4a6b-492e-8192-f14e65416719",
   "metadata": {},
   "outputs": [
    {
     "name": "stdout",
     "output_type": "stream",
     "text": [
      "Company Company 1: Retail, relation: 2 clients\n",
      "Company Company 2: Construction, relation: 3 clients\n",
      "Company Company 3: Healthcare, relation: 4 clients\n"
     ]
    }
   ],
   "source": [
    "def get_company_domain():\n",
    "  \"\"\"\n",
    "  Prints information about each company's domain and client count.\n",
    "  \"\"\"\n",
    "\n",
    "  for company_name, details in company_detail_list.items():\n",
    "    domain = details['domain']\n",
    "    num_clients = len(details['clients'])\n",
    "    print(f\"Company {company_name}: {domain}, relation: {num_clients} clients\")\n",
    "\n",
    "# Example usage:\n",
    "get_company_domain()\n"
   ]
  },
  {
   "cell_type": "code",
   "execution_count": 36,
   "id": "dd7743de-3185-4e5c-8b23-f57fc3093c8c",
   "metadata": {},
   "outputs": [
    {
     "name": "stdout",
     "output_type": "stream",
     "text": [
      "[{'full_name': 'John Doe', 'company': 'Company 1', 'domain': 'Retail'}, {'full_name': 'Tom Smith', 'company': 'Company 2', 'domain': 'Construction'}, {'full_name': 'Andrew Sebastian', 'company': 'Company 2', 'domain': 'Construction'}]\n"
     ]
    }
   ],
   "source": [
    "def get_employees():\n",
    "  \"\"\"\n",
    "  Returns a list of dictionaries containing employee details with company domain.\n",
    "\n",
    "  Returns:\n",
    "      list: A list of dictionaries with employee full name, company, and domain.\n",
    "  \"\"\"\n",
    "\n",
    "  employees = []\n",
    "  for employee_name, details in employee_detail_list.items():\n",
    "    company_name = details['company']\n",
    "    company_domain = company_detail_list[company_name]['domain']  # Access domain from company_detail_list\n",
    "    employee = {\n",
    "      \"full_name\": employee_name,\n",
    "      \"company\": company_name,\n",
    "      \"domain\": company_domain\n",
    "    }\n",
    "    employees.append(employee)\n",
    "  return employees\n",
    "\n",
    "# Example usage:\n",
    "employee_list = get_employees()\n",
    "print(employee_list)\n"
   ]
  },
  {
   "cell_type": "code",
   "execution_count": 37,
   "id": "eb702891-b27c-4d7e-8637-5f08e3afe745",
   "metadata": {},
   "outputs": [
    {
     "name": "stdout",
     "output_type": "stream",
     "text": [
      "[{'company': 'Company 1', 'employees': ['John Doe']}, {'company': 'Company 2', 'employees': ['Tom Smith', 'Andrew Sebastian']}]\n"
     ]
    }
   ],
   "source": [
    "def get_employees_by_company():\n",
    "  \"\"\"\n",
    "  Returns a list of dictionaries containing companies and their list of employees.\n",
    "\n",
    "  Returns:\n",
    "      list: A list of dictionaries with company name and a list of employee full names.\n",
    "  \"\"\"\n",
    "\n",
    "  companies_with_employees = {}\n",
    "  for employee_name, details in employee_detail_list.items():\n",
    "    company_name = details['company']\n",
    "    if company_name not in companies_with_employees:\n",
    "      companies_with_employees[company_name] = []\n",
    "    companies_with_employees[company_name].append(employee_name)\n",
    "\n",
    "  return [\n",
    "      {\"company\": company_name, \"employees\": employees}\n",
    "      for company_name, employees in companies_with_employees.items()\n",
    "  ]\n",
    "\n",
    "# Example usage:\n",
    "company_employee_list = get_employees_by_company()\n",
    "print(company_employee_list)\n"
   ]
  },
  {
   "cell_type": "code",
   "execution_count": null,
   "id": "14b57c6f-9459-46c3-82ab-850037bee17a",
   "metadata": {},
   "outputs": [],
   "source": []
  }
 ],
 "metadata": {
  "kernelspec": {
   "display_name": "Python 3 (ipykernel)",
   "language": "python",
   "name": "python3"
  },
  "language_info": {
   "codemirror_mode": {
    "name": "ipython",
    "version": 3
   },
   "file_extension": ".py",
   "mimetype": "text/x-python",
   "name": "python",
   "nbconvert_exporter": "python",
   "pygments_lexer": "ipython3",
   "version": "3.11.7"
  }
 },
 "nbformat": 4,
 "nbformat_minor": 5
}
